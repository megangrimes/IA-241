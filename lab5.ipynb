{
 "cells": [
  {
   "cell_type": "markdown",
   "metadata": {},
   "source": [
    "# Q1"
   ]
  },
  {
   "cell_type": "code",
   "execution_count": 3,
   "metadata": {},
   "outputs": [],
   "source": [
    "import xlrd"
   ]
  },
  {
   "cell_type": "code",
   "execution_count": 9,
   "metadata": {},
   "outputs": [],
   "source": [
    "import xlwt"
   ]
  },
  {
   "cell_type": "code",
   "execution_count": 5,
   "metadata": {},
   "outputs": [
    {
     "name": "stdout",
     "output_type": "stream",
     "text": [
      "Collecting xlutils\n",
      "\u001b[?25l  Downloading https://files.pythonhosted.org/packages/c7/55/e22ac73dbb316cabb5db28bef6c87044a95914f713a6e81b593f8a0d2f79/xlutils-2.0.0-py2.py3-none-any.whl (55kB)\n",
      "\u001b[K    100% |████████████████████████████████| 61kB 20.2MB/s ta 0:00:01\n",
      "\u001b[?25hRequirement already satisfied: xlwt>=0.7.4 in /home/ec2-user/anaconda3/envs/python3/lib/python3.6/site-packages (from xlutils) (1.3.0)\n",
      "Requirement already satisfied: xlrd>=0.7.2 in /home/ec2-user/anaconda3/envs/python3/lib/python3.6/site-packages (from xlutils) (1.1.0)\n",
      "Installing collected packages: xlutils\n",
      "Successfully installed xlutils-2.0.0\n",
      "\u001b[33mYou are using pip version 10.0.1, however version 20.0.2 is available.\n",
      "You should consider upgrading via the 'pip install --upgrade pip' command.\u001b[0m\n"
     ]
    }
   ],
   "source": [
    "!pip install xlutils\n",
    "import xlutils"
   ]
  },
  {
   "cell_type": "code",
   "execution_count": 6,
   "metadata": {},
   "outputs": [],
   "source": [
    "diamond_book = xlrd.open_workbook('Diamonds.xls')\n",
    "diamond_sheet = diamond_book.sheet_by_name('Diamonds')"
   ]
  },
  {
   "cell_type": "code",
   "execution_count": 14,
   "metadata": {},
   "outputs": [
    {
     "name": "stdout",
     "output_type": "stream",
     "text": [
      "1.09\n",
      "0.3\n",
      "0.3\n",
      "0.3\n",
      "0.3\n",
      "0.31\n",
      "0.31\n",
      "0.31\n",
      "0.31\n",
      "0.31\n",
      "0.31\n",
      "0.32\n",
      "0.32\n",
      "0.33\n",
      "0.33\n",
      "0.34\n",
      "0.34\n",
      "0.34\n",
      "0.34\n",
      "0.34\n",
      "0.34\n",
      "0.35\n",
      "0.35\n",
      "0.35\n",
      "0.35\n",
      "0.36\n",
      "0.36\n",
      "0.37\n",
      "0.37\n",
      "0.4\n",
      "0.4\n",
      "0.41\n",
      "0.43\n",
      "0.45\n",
      "0.46\n",
      "0.48\n",
      "0.5\n",
      "0.5\n",
      "0.5\n",
      "0.5\n",
      "0.5\n",
      "0.51\n",
      "0.51\n",
      "0.52\n",
      "0.52\n",
      "0.52\n",
      "0.52\n",
      "0.53\n",
      "0.53\n",
      "0.53\n",
      "0.53\n",
      "0.54\n",
      "0.54\n",
      "0.55\n",
      "0.55\n",
      "0.55\n",
      "0.56\n",
      "0.56\n",
      "0.57\n",
      "0.59\n",
      "0.6\n",
      "0.62\n",
      "0.63\n",
      "0.64\n",
      "0.66\n",
      "0.7\n",
      "0.7\n",
      "0.7\n",
      "0.7\n",
      "0.71\n",
      "0.71\n",
      "0.71\n",
      "0.71\n",
      "0.72\n",
      "0.8\n",
      "0.82\n",
      "0.84\n",
      "0.85\n",
      "0.86\n",
      "0.89\n",
      "0.9\n",
      "0.5\n",
      "0.5\n",
      "0.51\n",
      "0.55\n",
      "0.56\n",
      "0.57\n",
      "0.6\n",
      "0.63\n",
      "0.7\n",
      "0.7\n",
      "0.7\n",
      "0.7\n",
      "0.7\n",
      "0.7\n",
      "0.71\n",
      "0.71\n",
      "0.71\n",
      "0.72\n",
      "0.72\n",
      "0.73\n",
      "0.73\n",
      "0.73\n",
      "0.73\n",
      "0.73\n",
      "0.74\n",
      "0.74\n",
      "0.75\n",
      "0.75\n",
      "0.75\n",
      "0.76\n",
      "0.77\n",
      "0.78\n",
      "0.8\n",
      "0.83\n",
      "0.9\n",
      "1.0\n",
      "1.0\n",
      "1.0\n",
      "1.0\n",
      "1.0\n",
      "1.0\n",
      "1.0\n",
      "1.0\n",
      "1.0\n",
      "1.0\n",
      "1.0\n",
      "1.0\n",
      "1.0\n",
      "1.0\n",
      "1.0\n",
      "1.01\n",
      "1.01\n",
      "1.01\n",
      "1.01\n",
      "1.01\n",
      "1.01\n",
      "1.01\n",
      "1.01\n",
      "1.01\n",
      "1.01\n",
      "1.02\n",
      "1.02\n",
      "1.02\n",
      "1.03\n",
      "1.04\n",
      "1.04\n",
      "1.05\n",
      "1.06\n",
      "1.06\n",
      "1.07\n",
      "1.1\n",
      "0.18\n",
      "0.18\n",
      "0.18\n",
      "0.18\n",
      "0.18\n",
      "0.18\n",
      "0.19\n",
      "0.19\n",
      "0.19\n",
      "0.19\n",
      "0.19\n",
      "0.19\n",
      "0.19\n",
      "0.19\n",
      "0.2\n",
      "0.2\n",
      "0.2\n",
      "0.2\n",
      "0.21\n",
      "0.21\n",
      "0.21\n",
      "0.21\n",
      "0.22\n",
      "0.23\n",
      "0.23\n",
      "0.23\n",
      "0.24\n",
      "0.25\n",
      "0.25\n",
      "0.25\n",
      "0.25\n",
      "0.26\n",
      "0.26\n",
      "0.26\n",
      "0.26\n",
      "0.27\n",
      "0.27\n",
      "0.28\n",
      "0.29\n",
      "0.29\n",
      "0.3\n",
      "0.3\n",
      "0.3\n",
      "0.3\n",
      "0.3\n",
      "0.31\n",
      "0.31\n",
      "0.31\n",
      "0.32\n",
      "0.33\n",
      "0.34\n",
      "0.34\n",
      "0.35\n",
      "0.35\n",
      "0.4\n",
      "0.41\n",
      "0.41\n",
      "0.47\n",
      "0.48\n",
      "0.5\n",
      "0.51\n",
      "0.51\n",
      "0.52\n",
      "0.55\n",
      "0.56\n",
      "0.56\n",
      "0.58\n",
      "0.58\n",
      "0.58\n",
      "0.7\n",
      "0.7\n",
      "0.71\n",
      "0.76\n",
      "0.78\n",
      "1.0\n",
      "1.01\n",
      "1.01\n",
      "1.01\n",
      "0.5\n",
      "0.5\n",
      "0.51\n",
      "0.52\n",
      "0.52\n",
      "0.53\n",
      "0.53\n",
      "0.55\n",
      "0.56\n",
      "0.56\n",
      "0.57\n",
      "0.57\n",
      "0.58\n",
      "0.6\n",
      "0.6\n",
      "0.6\n",
      "0.61\n",
      "0.62\n",
      "0.64\n",
      "0.65\n",
      "0.66\n",
      "0.7\n",
      "0.7\n",
      "0.7\n",
      "0.7\n",
      "0.7\n",
      "0.71\n",
      "0.71\n",
      "0.72\n",
      "0.73\n",
      "0.73\n",
      "0.74\n",
      "0.8\n",
      "0.8\n",
      "0.8\n",
      "0.8\n",
      "0.8\n",
      "0.81\n",
      "0.81\n",
      "0.81\n",
      "0.81\n",
      "0.81\n",
      "0.82\n",
      "0.82\n",
      "0.85\n",
      "0.85\n",
      "0.85\n",
      "0.86\n",
      "1.0\n",
      "1.0\n",
      "1.0\n",
      "1.0\n",
      "1.0\n",
      "1.0\n",
      "1.0\n",
      "1.0\n",
      "1.0\n",
      "1.0\n",
      "1.0\n",
      "1.0\n",
      "1.0\n",
      "1.0\n",
      "1.0\n",
      "1.0\n",
      "1.01\n",
      "1.01\n",
      "1.01\n",
      "1.01\n",
      "1.01\n",
      "1.01\n",
      "1.01\n",
      "1.01\n",
      "1.01\n",
      "1.01\n",
      "1.01\n",
      "1.02\n",
      "1.06\n",
      "1.02\n",
      "1.09\n"
     ]
    }
   ],
   "source": [
    "max_weight = 0\n",
    "for i in range(diamond_sheet.nrows):\n",
    "    if i >= 1:\n",
    "        row = diamond_sheet.row_values(i)\n",
    "    print(row[1])"
   ]
  },
  {
   "cell_type": "code",
   "execution_count": 20,
   "metadata": {},
   "outputs": [
    {
     "name": "stdout",
     "output_type": "stream",
     "text": [
      "1.1\n"
     ]
    }
   ],
   "source": [
    "max_weight = 0\n",
    "for i in range(diamond_sheet.nrows):\n",
    "    if i>= 1:\n",
    "        row = diamond_sheet.row_values(i)\n",
    "        if max_weight < row[1]:\n",
    "            max_weight = row[1]\n",
    "print(max_weight)"
   ]
  },
  {
   "cell_type": "code",
   "execution_count": 22,
   "metadata": {},
   "outputs": [
    {
     "name": "stdout",
     "output_type": "stream",
     "text": [
      "1.1 9646.0\n"
     ]
    }
   ],
   "source": [
    "max_weight = 0\n",
    "max_price = 0\n",
    "for i in range(diamond_sheet.nrows):\n",
    "    if i>= 1:\n",
    "        row = diamond_sheet.row_values(i)\n",
    "        if max_weight < row[1]:\n",
    "            max_weight = row[1]\n",
    "            max_price = row[5]\n",
    "print(max_weight, max_price)        "
   ]
  },
  {
   "cell_type": "markdown",
   "metadata": {},
   "source": [
    "# Q2"
   ]
  },
  {
   "cell_type": "code",
   "execution_count": 8,
   "metadata": {},
   "outputs": [
    {
     "name": "stdout",
     "output_type": "stream",
     "text": [
      "5019.483766233766\n"
     ]
    }
   ],
   "source": [
    "total_price = 0\n",
    "for i in range (diamond_sheet.nrows):\n",
    "    if i >=1:\n",
    "        row = diamond_sheet.row_values(i)\n",
    "        total_price = total_price + row[5]\n",
    "        \n",
    "print(total_price/(diamond_sheet.nrows - 1))\n"
   ]
  },
  {
   "cell_type": "markdown",
   "metadata": {},
   "source": [
    "# Q3"
   ]
  },
  {
   "cell_type": "code",
   "execution_count": 16,
   "metadata": {},
   "outputs": [],
   "source": [
    "from xlutils.copy import copy"
   ]
  },
  {
   "cell_type": "code",
   "execution_count": 17,
   "metadata": {},
   "outputs": [],
   "source": [
    "r_diamond_book = xlrd.open_workbook('Diamonds.xls')\n",
    "r_diamond_sheet = r_diamond_book.sheet_by_name('Diamonds')"
   ]
  },
  {
   "cell_type": "code",
   "execution_count": 18,
   "metadata": {},
   "outputs": [],
   "source": [
    "w_book = copy(r_diamond_book)\n",
    "w_sheet = w_book.get_sheet(0)"
   ]
  },
  {
   "cell_type": "code",
   "execution_count": 20,
   "metadata": {},
   "outputs": [
    {
     "name": "stdout",
     "output_type": "stream",
     "text": [
      "309\n"
     ]
    }
   ],
   "source": [
    "print(r_diamond_sheet.nrows)"
   ]
  },
  {
   "cell_type": "code",
   "execution_count": 23,
   "metadata": {},
   "outputs": [],
   "source": [
    "for i in range (r_diamond_sheet.nrows):\n",
    "    if i == 0:\n",
    "        w_sheet.write (0,6,'Unit Price')\n",
    "    else:\n",
    "        weight = r_diamond_sheet.row_values(i)[1]\n",
    "        price = r_diamond_sheet.row_values(i)[5]\n",
    "        w_sheet.write(i,6, price/weight)\n",
    "w_book.save('Diamonds.xls')"
   ]
  },
  {
   "cell_type": "markdown",
   "metadata": {},
   "source": [
    "# Q4"
   ]
  },
  {
   "cell_type": "code",
   "execution_count": 25,
   "metadata": {},
   "outputs": [
    {
     "name": "stdout",
     "output_type": "stream",
     "text": [
      "['IDNO', 'WEIGHT', 'COLOR', 'CLARITY', 'RATER', 'PRICE', 'Unit Price']\n",
      "[1.0, 0.3, 'D', 'VS2', 'GIA', 1302.0, 4340.0]\n",
      "[2.0, 0.3, 'E', 'VS1', 'GIA', 1510.0, 5033.333333333334]\n",
      "[3.0, 0.3, 'G', 'VVS1', 'GIA', 1510.0, 5033.333333333334]\n",
      "[4.0, 0.3, 'G', 'VS1', 'GIA', 1260.0, 4200.0]\n",
      "[5.0, 0.31, 'D', 'VS1', 'GIA', 1641.0, 5293.548387096775]\n",
      "[6.0, 0.31, 'E', 'VS1', 'GIA', 1555.0, 5016.129032258064]\n",
      "[7.0, 0.31, 'F', 'VS1', 'GIA', 1427.0, 4603.225806451613]\n",
      "[8.0, 0.31, 'G', 'VVS2', 'GIA', 1427.0, 4603.225806451613]\n",
      "[9.0, 0.31, 'H', 'VS2', 'GIA', 1126.0, 3632.2580645161293]\n",
      "[10.0, 0.31, 'I', 'VS1', 'GIA', 1126.0, 3632.2580645161293]\n"
     ]
    }
   ],
   "source": [
    "new_r_book = xlrd.open_workbook('Diamonds.xls')\n",
    "new_r_sheet = new_r_book.sheet_by_name('Diamonds')\n",
    "\n",
    "for i in range (11):\n",
    "    print(new_r_sheet.row_values(i))"
   ]
  },
  {
   "cell_type": "code",
   "execution_count": null,
   "metadata": {},
   "outputs": [],
   "source": []
  }
 ],
 "metadata": {
  "kernelspec": {
   "display_name": "conda_python3",
   "language": "python",
   "name": "conda_python3"
  },
  "language_info": {
   "codemirror_mode": {
    "name": "ipython",
    "version": 3
   },
   "file_extension": ".py",
   "mimetype": "text/x-python",
   "name": "python",
   "nbconvert_exporter": "python",
   "pygments_lexer": "ipython3",
   "version": "3.6.5"
  }
 },
 "nbformat": 4,
 "nbformat_minor": 4
}
